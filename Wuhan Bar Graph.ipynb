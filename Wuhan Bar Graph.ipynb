{
 "cells": [
  {
   "cell_type": "code",
   "execution_count": 1,
   "metadata": {},
   "outputs": [],
   "source": [
    "#Plotting Wuhan corona virus cases in order to check for outliers.\n",
    "#v.1 2020/2/4\n",
    "#Armani Chien"
   ]
  },
  {
   "cell_type": "code",
   "execution_count": 2,
   "metadata": {},
   "outputs": [],
   "source": [
    "import pandas as pd\n",
    "import matplotlib\n",
    "import matplotlib.pyplot as plt\n",
    "import seaborn as sns"
   ]
  },
  {
   "cell_type": "code",
   "execution_count": 3,
   "metadata": {},
   "outputs": [],
   "source": [
    "#Read csv file\n",
    "df=pd.read_csv('WuhanDb.csv')"
   ]
  },
  {
   "cell_type": "code",
   "execution_count": 4,
   "metadata": {},
   "outputs": [
    {
     "name": "stdout",
     "output_type": "stream",
     "text": [
      "          Confirmed  Suspected  Death  Recovered  Comments\n",
      "count     50.000000        1.0    1.0        1.0       0.0\n",
      "mean     477.920000    17988.0  259.0      275.0       NaN\n",
      "std     1931.743105        NaN    NaN        NaN       NaN\n",
      "min        0.000000    17988.0  259.0      275.0       NaN\n",
      "25%        8.250000    17988.0  259.0      275.0       NaN\n",
      "50%       34.500000    17988.0  259.0      275.0       NaN\n",
      "75%      168.750000    17988.0  259.0      275.0       NaN\n",
      "max    11901.000000    17988.0  259.0      275.0       NaN\n"
     ]
    }
   ],
   "source": [
    "#check summary\n",
    "print(df.describe())"
   ]
  },
  {
   "cell_type": "code",
   "execution_count": 5,
   "metadata": {},
   "outputs": [
    {
     "name": "stdout",
     "output_type": "stream",
     "text": [
      "Confirmed        0.0\n",
      "Suspected    17988.0\n",
      "Death          259.0\n",
      "Recovered      275.0\n",
      "Comments         NaN\n",
      "dtype: float64\n",
      "Confirmed    11901.0\n",
      "Suspected    17988.0\n",
      "Death          259.0\n",
      "Recovered      275.0\n",
      "Comments         NaN\n",
      "dtype: float64\n",
      "Confirmed      477.92\n",
      "Suspected    17988.00\n",
      "Death          259.00\n",
      "Recovered      275.00\n",
      "Comments          NaN\n",
      "dtype: float64\n"
     ]
    }
   ],
   "source": [
    "###Trying out different functions in pandas\n",
    "print(df.min())\n",
    "print(df.max())\n",
    "print(df.mean())"
   ]
  },
  {
   "cell_type": "code",
   "execution_count": 6,
   "metadata": {},
   "outputs": [
    {
     "name": "stdout",
     "output_type": "stream",
     "text": [
      "    Province  Confirmed  Suspected  Death  Recovered  \\\n",
      "0      Total    11901.0    17988.0  259.0      275.0   \n",
      "1      Hubei     7153.0        NaN    NaN        NaN   \n",
      "2   Zhejiang      599.0        NaN    NaN        NaN   \n",
      "3  Guangdong      535.0        NaN    NaN        NaN   \n",
      "4      Henan      422.0        NaN    NaN        NaN   \n",
      "\n",
      "                                    Link  Comments  \n",
      "0  http://3g.dxy.cn/newh5/view/pneumonia       NaN  \n",
      "1                                    NaN       NaN  \n",
      "2                                    NaN       NaN  \n",
      "3                                    NaN       NaN  \n",
      "4                                    NaN       NaN  \n",
      "      Province  Confirmed  Suspected  Death  Recovered Link  Comments\n",
      "46  Australia         9.0        NaN    NaN        NaN  NaN       NaN\n",
      "47     Canada         2.0        NaN    NaN        NaN  NaN       NaN\n",
      "48   Cambodia         1.0        NaN    NaN        NaN  NaN       NaN\n",
      "49    Germany         4.0        NaN    NaN        NaN  NaN       NaN\n",
      "50        UAE         4.0        NaN    NaN        NaN  NaN       NaN\n"
     ]
    }
   ],
   "source": [
    "#Obtain top & last 5 of the data\n",
    "print(df.head(5))\n",
    "print(df.tail(5))"
   ]
  },
  {
   "cell_type": "code",
   "execution_count": 7,
   "metadata": {},
   "outputs": [
    {
     "name": "stdout",
     "output_type": "stream",
     "text": [
      "     Province  Confirmed  Suspected  Death  Recovered Link  Comments\n",
      "44        US         5.0        NaN    NaN        NaN  NaN       NaN\n",
      "45   Vietnam         2.0        NaN    NaN        NaN  NaN       NaN\n",
      "49   Germany         4.0        NaN    NaN        NaN  NaN       NaN\n",
      "34      Tibet        1.0        NaN    NaN        NaN  NaN       NaN\n",
      "3   Guangdong      535.0        NaN    NaN        NaN  NaN       NaN\n"
     ]
    }
   ],
   "source": [
    "#Obtain random sample\n",
    "print(df.sample(5))\n"
   ]
  },
  {
   "cell_type": "code",
   "execution_count": 8,
   "metadata": {},
   "outputs": [
    {
     "name": "stdout",
     "output_type": "stream",
     "text": [
      "                                              0      1         2          3   \\\n",
      "Province                                   Total  Hubei  Zhejiang  Guangdong   \n",
      "Confirmed                                  11901   7153       599        535   \n",
      "Suspected                                  17988    NaN       NaN        NaN   \n",
      "Death                                        259    NaN       NaN        NaN   \n",
      "Recovered                                    275    NaN       NaN        NaN   \n",
      "Link       http://3g.dxy.cn/newh5/view/pneumonia    NaN       NaN        NaN   \n",
      "Comments                                     NaN    NaN       NaN        NaN   \n",
      "\n",
      "              4      5      6        7          8        9   ...          41  \\\n",
      "Province   Henan  Hunan  Anhui  Jiangxi  Chongqing  Sichuan  ...  Singapore    \n",
      "Confirmed    422    389    297      286        247      207  ...          16   \n",
      "Suspected    NaN    NaN    NaN      NaN        NaN      NaN  ...         NaN   \n",
      "Death        NaN    NaN    NaN      NaN        NaN      NaN  ...         NaN   \n",
      "Recovered    NaN    NaN    NaN      NaN        NaN      NaN  ...         NaN   \n",
      "Link         NaN    NaN    NaN      NaN        NaN      NaN  ...         NaN   \n",
      "Comments     NaN    NaN    NaN      NaN        NaN      NaN  ...         NaN   \n",
      "\n",
      "                     42         43   44        45          46       47  \\\n",
      "Province   South Korea   Thailand   US   Vietnam   Australia   Canada    \n",
      "Confirmed             4         14    5         2           9        2   \n",
      "Suspected           NaN        NaN  NaN       NaN         NaN      NaN   \n",
      "Death               NaN        NaN  NaN       NaN         NaN      NaN   \n",
      "Recovered           NaN        NaN  NaN       NaN         NaN      NaN   \n",
      "Link                NaN        NaN  NaN       NaN         NaN      NaN   \n",
      "Comments            NaN        NaN  NaN       NaN         NaN      NaN   \n",
      "\n",
      "                  48        49    50  \n",
      "Province   Cambodia   Germany   UAE   \n",
      "Confirmed          1         4     4  \n",
      "Suspected        NaN       NaN   NaN  \n",
      "Death            NaN       NaN   NaN  \n",
      "Recovered        NaN       NaN   NaN  \n",
      "Link             NaN       NaN   NaN  \n",
      "Comments         NaN       NaN   NaN  \n",
      "\n",
      "[7 rows x 51 columns]\n"
     ]
    }
   ],
   "source": [
    "#Transpose - flipping the rows and columns\n",
    "print(df.T)"
   ]
  },
  {
   "cell_type": "code",
   "execution_count": 9,
   "metadata": {},
   "outputs": [
    {
     "name": "stdout",
     "output_type": "stream",
     "text": [
      "            Province  Confirmed  Suspected  Death  Recovered  \\\n",
      "6              Anhui      297.0        NaN    NaN        NaN   \n",
      "46        Australia         9.0        NaN    NaN        NaN   \n",
      "13           Beijing      168.0        NaN    NaN        NaN   \n",
      "48         Cambodia         1.0        NaN    NaN        NaN   \n",
      "47           Canada         2.0        NaN    NaN        NaN   \n",
      "8          Chongqing      247.0        NaN    NaN        NaN   \n",
      "37           France         4.0        NaN    NaN        NaN   \n",
      "14            Fujian      144.0        NaN    NaN        NaN   \n",
      "24             Gansu       40.0        NaN    NaN        NaN   \n",
      "49          Germany         4.0        NaN    NaN        NaN   \n",
      "3          Guangdong      535.0        NaN    NaN        NaN   \n",
      "16           Guangxi      100.0        NaN    NaN        NaN   \n",
      "25           Guizhou       29.0        NaN    NaN        NaN   \n",
      "21            Hainan       62.0        NaN    NaN        NaN   \n",
      "17             Hebei       96.0        NaN    NaN        NaN   \n",
      "19      Heilongjiang       80.0        NaN    NaN        NaN   \n",
      "4              Henan      422.0        NaN    NaN        NaN   \n",
      "30         Hong Kong       13.0        NaN    NaN        NaN   \n",
      "1              Hubei     7153.0        NaN    NaN        NaN   \n",
      "5              Hunan      389.0        NaN    NaN        NaN   \n",
      "27    Inner Mongolia       23.0        NaN    NaN        NaN   \n",
      "38            Japan        20.0        NaN    NaN        NaN   \n",
      "11           Jiangsu      202.0        NaN    NaN        NaN   \n",
      "7            Jiangxi      286.0        NaN    NaN        NaN   \n",
      "29             Jilin       17.0        NaN    NaN        NaN   \n",
      "20          Liaoning       64.0        NaN    NaN        NaN   \n",
      "35  Location unknown        0.0        NaN    NaN        NaN   \n",
      "33             Macau        7.0        NaN    NaN        NaN   \n",
      "39         Malaysia         8.0        NaN    NaN        NaN   \n",
      "40            Nepal         1.0        NaN    NaN        NaN   \n",
      "26           Ningxia       26.0        NaN    NaN        NaN   \n",
      "32           Qinghai        9.0        NaN    NaN        NaN   \n",
      "15           Shaanxi      101.0        NaN    NaN        NaN   \n",
      "10          Shandong      206.0        NaN    NaN        NaN   \n",
      "12          Shanghai      169.0        NaN    NaN        NaN   \n",
      "22            Shanxi       47.0        NaN    NaN        NaN   \n",
      "9            Sichuan      207.0        NaN    NaN        NaN   \n",
      "41        Singapore        16.0        NaN    NaN        NaN   \n",
      "42      South Korea         4.0        NaN    NaN        NaN   \n",
      "31            Taiwan       10.0        NaN    NaN        NaN   \n",
      "43         Thailand        14.0        NaN    NaN        NaN   \n",
      "23           Tianjin       41.0        NaN    NaN        NaN   \n",
      "34             Tibet        1.0        NaN    NaN        NaN   \n",
      "0              Total    11901.0    17988.0  259.0      275.0   \n",
      "50              UAE         4.0        NaN    NaN        NaN   \n",
      "44               US         5.0        NaN    NaN        NaN   \n",
      "45          Vietnam         2.0        NaN    NaN        NaN   \n",
      "28          Xinjiang       18.0        NaN    NaN        NaN   \n",
      "18            Yunnan       93.0        NaN    NaN        NaN   \n",
      "2           Zhejiang      599.0        NaN    NaN        NaN   \n",
      "36               NaN        NaN        NaN    NaN        NaN   \n",
      "\n",
      "                                     Link  Comments  \n",
      "6                                     NaN       NaN  \n",
      "46                                    NaN       NaN  \n",
      "13                                    NaN       NaN  \n",
      "48                                    NaN       NaN  \n",
      "47                                    NaN       NaN  \n",
      "8                                     NaN       NaN  \n",
      "37                                    NaN       NaN  \n",
      "14                                    NaN       NaN  \n",
      "24                                    NaN       NaN  \n",
      "49                                    NaN       NaN  \n",
      "3                                     NaN       NaN  \n",
      "16                                    NaN       NaN  \n",
      "25                                    NaN       NaN  \n",
      "21                                    NaN       NaN  \n",
      "17                                    NaN       NaN  \n",
      "19                                    NaN       NaN  \n",
      "4                                     NaN       NaN  \n",
      "30                                    NaN       NaN  \n",
      "1                                     NaN       NaN  \n",
      "5                                     NaN       NaN  \n",
      "27                                    NaN       NaN  \n",
      "38                                    NaN       NaN  \n",
      "11                                    NaN       NaN  \n",
      "7                                     NaN       NaN  \n",
      "29                                    NaN       NaN  \n",
      "20                                    NaN       NaN  \n",
      "35                                    NaN       NaN  \n",
      "33                                    NaN       NaN  \n",
      "39                                    NaN       NaN  \n",
      "40                                    NaN       NaN  \n",
      "26                                    NaN       NaN  \n",
      "32                                    NaN       NaN  \n",
      "15                                    NaN       NaN  \n",
      "10                                    NaN       NaN  \n",
      "12                                    NaN       NaN  \n",
      "22                                    NaN       NaN  \n",
      "9                                     NaN       NaN  \n",
      "41                                    NaN       NaN  \n",
      "42                                    NaN       NaN  \n",
      "31                                    NaN       NaN  \n",
      "43                                    NaN       NaN  \n",
      "23                                    NaN       NaN  \n",
      "34                                    NaN       NaN  \n",
      "0   http://3g.dxy.cn/newh5/view/pneumonia       NaN  \n",
      "50                                    NaN       NaN  \n",
      "44                                    NaN       NaN  \n",
      "45                                    NaN       NaN  \n",
      "28                                    NaN       NaN  \n",
      "18                                    NaN       NaN  \n",
      "2                                     NaN       NaN  \n",
      "36                                    NaN       NaN  \n"
     ]
    }
   ],
   "source": [
    "###Back to manipulating the date frame\n",
    "#sorting by the column & arranging the rows according\n",
    "print(df.sort_values(by=\"Province\"))"
   ]
  },
  {
   "cell_type": "code",
   "execution_count": 10,
   "metadata": {},
   "outputs": [],
   "source": [
    "#Extracting necessary information\n",
    "df1 = df[['Province','Confirmed']]"
   ]
  },
  {
   "cell_type": "code",
   "execution_count": 11,
   "metadata": {},
   "outputs": [],
   "source": [
    "#getting rid of the first row of non-data\n",
    "df1 = df1[1:]"
   ]
  },
  {
   "cell_type": "code",
   "execution_count": 12,
   "metadata": {},
   "outputs": [
    {
     "data": {
      "image/png": "[encoded data removed]",
      "text/plain": [
       "<Figure size 432x288 with 1 Axes>"
      ]
     },
     "metadata": {
      "needs_background": "light"
     },
     "output_type": "display_data"
    }
   ],
   "source": [
    "#plotting with Pandas\n",
    "df1.plot(kind='bar',x='Province',y='Confirmed', title='Confirmed Cases vs. Provinces')\n",
    "plt.show()"
   ]
  },
  {
   "cell_type": "code",
   "execution_count": 13,
   "metadata": {},
   "outputs": [
    {
     "name": "stdout",
     "output_type": "stream",
     "text": [
      "          Province  Confirmed\n",
      "1            Hubei     7153.0\n",
      "2         Zhejiang      599.0\n",
      "3        Guangdong      535.0\n",
      "4            Henan      422.0\n",
      "5            Hunan      389.0\n",
      "6            Anhui      297.0\n",
      "7          Jiangxi      286.0\n",
      "8        Chongqing      247.0\n",
      "9          Sichuan      207.0\n",
      "10        Shandong      206.0\n",
      "11         Jiangsu      202.0\n",
      "12        Shanghai      169.0\n",
      "13         Beijing      168.0\n",
      "14          Fujian      144.0\n",
      "15         Shaanxi      101.0\n",
      "16         Guangxi      100.0\n",
      "17           Hebei       96.0\n",
      "18          Yunnan       93.0\n",
      "19    Heilongjiang       80.0\n",
      "20        Liaoning       64.0\n",
      "21          Hainan       62.0\n",
      "22          Shanxi       47.0\n",
      "23         Tianjin       41.0\n",
      "24           Gansu       40.0\n",
      "25         Guizhou       29.0\n",
      "26         Ningxia       26.0\n",
      "27  Inner Mongolia       23.0\n",
      "28        Xinjiang       18.0\n",
      "29           Jilin       17.0\n",
      "30       Hong Kong       13.0\n",
      "31          Taiwan       10.0\n",
      "32         Qinghai        9.0\n",
      "33           Macau        7.0\n",
      "34           Tibet        1.0\n"
     ]
    }
   ],
   "source": [
    "#Extracting data of cases only happening in China (Row index 0 to 34)\n",
    "dfChina = df1[0:34]\n",
    "print(dfChina)\n",
    "df2 = df1.sort_values(by=\"Province\")"
   ]
  },
  {
   "cell_type": "code",
   "execution_count": 14,
   "metadata": {},
   "outputs": [],
   "source": [
    "#Extracting data of cases not happening in China (Row index 36 till last)\n",
    "dfNotChina = df1[36:]"
   ]
  },
  {
   "cell_type": "code",
   "execution_count": 15,
   "metadata": {},
   "outputs": [
    {
     "data": {
      "image/png": "[encoded data removed]",
      "text/plain": [
       "<Figure size 432x288 with 1 Axes>"
      ]
     },
     "metadata": {
      "needs_background": "light"
     },
     "output_type": "display_data"
    }
   ],
   "source": [
    "###Plotting with seaborn\n",
    "#Confirmed cases vs. Provinces (All)\n",
    "ax = sns.barplot(x=\"Province\",\n",
    "                 y=\"Confirmed\",\n",
    "                 data=df1)\n",
    "plt.title('Confirmed Cases vs. Provinces')\n",
    "plt.show()"
   ]
  },
  {
   "cell_type": "code",
   "execution_count": 16,
   "metadata": {},
   "outputs": [
    {
     "data": {
      "image/png": "[encoded data removed]",
      "text/plain": [
       "<Figure size 432x288 with 1 Axes>"
      ]
     },
     "metadata": {
      "needs_background": "light"
     },
     "output_type": "display_data"
    }
   ],
   "source": [
    "#Plotting all cases in China\n",
    "ax = sns.barplot(x=\"Province\",\n",
    "                 y=\"Confirmed\",\n",
    "                 data=dfChina)\n",
    "plt.title('Confirmed Cases vs. Provinces in China')\n",
    "plt.show()"
   ]
  },
  {
   "cell_type": "code",
   "execution_count": 17,
   "metadata": {},
   "outputs": [
    {
     "data": {
      "image/png": "[encoded data removed]",
      "text/plain": [
       "<Figure size 432x288 with 1 Axes>"
      ]
     },
     "metadata": {
      "needs_background": "light"
     },
     "output_type": "display_data"
    }
   ],
   "source": [
    "#Plotting all cases not in China\n",
    "ax = sns.barplot(x=\"Province\",\n",
    "                 y=\"Confirmed\",\n",
    "                 data=dfNotChina)\n",
    "plt.title('Confirmed Cases vs. Province/Countries not in China')\n",
    "plt.show()"
   ]
  },
  {
   "cell_type": "code",
   "execution_count": 18,
   "metadata": {},
   "outputs": [],
   "source": [
    "#Adding up all cities in China into the China category\n",
    "dfChinaSum = dfChina.sum().rename('Confirmed').reset_index() #Reseting index\n",
    "dfChinaSum = dfChinaSum[1:] #Trimming extra column named \"index\"\n",
    "dfChinaSum = dfChinaSum.loc[:,['Confirmed']] #Trimming extra column named \"index\"\n",
    "dfChinaSum.insert(loc=0, column='Province', value='China') #Inserting column 'Province' and row index 0 'China'"
   ]
  },
  {
   "cell_type": "code",
   "execution_count": 19,
   "metadata": {},
   "outputs": [],
   "source": [
    "#Joining the df of China & df of every case not in China\n",
    "ConcatCountries = pd.concat([dfChinaSum, dfNotChina], sort=False, ignore_index=True)\n",
    "#print(ConcatCountries)"
   ]
  },
  {
   "cell_type": "code",
   "execution_count": 20,
   "metadata": {},
   "outputs": [
    {
     "data": {
      "image/png": "[encoded data removed]",
      "text/plain": [
       "<Figure size 432x288 with 1 Axes>"
      ]
     },
     "metadata": {
      "needs_background": "light"
     },
     "output_type": "display_data"
    }
   ],
   "source": [
    "#Plotting The Concat'd dataframe - On the x axis are countries (China, France, etc.)\n",
    "dfNotChinaDescending = dfNotChina.sort_values(by=\"Confirmed\",ascending=False)\n",
    "ax = sns.barplot(x=\"Province\",\n",
    "                 y=\"Confirmed\",\n",
    "                 data=ConcatCountries)\n",
    "plt.title('Confirmed Cases vs. Countries')\n",
    "plt.show()"
   ]
  },
  {
   "cell_type": "code",
   "execution_count": 21,
   "metadata": {},
   "outputs": [
    {
     "name": "stdout",
     "output_type": "stream",
     "text": [
      "         Province Confirmed\n",
      "0  OutsideOfChina        94\n"
     ]
    }
   ],
   "source": [
    "#Combining cases in all countries not in China (France, America, England -> Not China)\n",
    "dfNotChinaSum = dfNotChina.sum().rename('Confirmed').reset_index() #Taking the sum of all cases that are not in China and it caused the country names to add up\n",
    "dfNotChinaSum = dfNotChinaSum.loc[:,['Confirmed']] #Taking out column titled index\n",
    "dfNotChinaSum = dfNotChinaSum.drop(dfNotChinaSum.index[0]) #Taking out row index 0\n",
    "dfNotChinaSum = dfNotChinaSum.reset_index() #Reseting index\n",
    "dfNotChinaSum = dfNotChinaSum.loc[:,['Confirmed']] #deleting the messed up column titled index\n",
    "dfNotChinaSum.insert(loc=0, column='Province', value='OutsideOfChina') #Adding a column for provinces since everything but cases count was removed\n",
    "print(dfNotChinaSum)"
   ]
  },
  {
   "cell_type": "code",
   "execution_count": 22,
   "metadata": {},
   "outputs": [],
   "source": [
    "#Joining NotChina and China into one data frame to plot with seaborn\n",
    "ConcatCountries = pd.concat([dfChinaSum, dfNotChinaSum], sort=False, ignore_index=True)"
   ]
  },
  {
   "cell_type": "code",
   "execution_count": 23,
   "metadata": {},
   "outputs": [
    {
     "data": {
      "image/png": "[encoded data removed]",
      "text/plain": [
       "<Figure size 432x288 with 1 Axes>"
      ]
     },
     "metadata": {
      "needs_background": "light"
     },
     "output_type": "display_data"
    }
   ],
   "source": [
    "#Plotting with seaborn\n",
    "dfNotChinaDescending = dfNotChina.sort_values(by=\"Confirmed\",ascending=False)\n",
    "ax = sns.barplot(x=\"Province\",\n",
    "                 y=\"Confirmed\",\n",
    "                 data=ConcatCountries)\n",
    "plt.show()"
   ]
  },
  {
   "cell_type": "code",
   "execution_count": 24,
   "metadata": {},
   "outputs": [
    {
     "name": "stdout",
     "output_type": "stream",
     "text": [
      "         Province Confirmed\n",
      "0           China     11901\n",
      "1  OutsideOfChina        94\n"
     ]
    }
   ],
   "source": [
    "print(ConcatCountries)"
   ]
  }
 ],
 "metadata": {
  "kernelspec": {
   "display_name": "Python 3",
   "language": "python",
   "name": "python3"
  },
  "language_info": {
   "codemirror_mode": {
    "name": "ipython",
    "version": 3
   },
   "file_extension": ".py",
   "mimetype": "text/x-python",
   "name": "python",
   "nbconvert_exporter": "python",
   "pygments_lexer": "ipython3",
   "version": "3.7.5"
  }
 },
 "nbformat": 4,
 "nbformat_minor": 4
}
